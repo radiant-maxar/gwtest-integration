{
 "cells": [
  {
   "cell_type": "code",
   "execution_count": null,
   "metadata": {},
   "outputs": [],
   "source": [
    "%%bash\n",
    "cd /mnt/tmp\n",
    "wget s3.amazonaws.com/geowave/latest/scripts/emr/quickstart/geowave-env.sh\n",
    "source /mnt/tmp/geowave-env.sh\n",
    "mkdir gdelt\n",
    "cd gdelt\n",
    "wget http://data.gdeltproject.org/events/md5sums\n",
    "for file in `cat md5sums | cut -d' ' -f3 | grep \"^${TIME_REGEX}\"` ; \\\n",
    "do wget http://data.gdeltproject.org/events/$file ; done\n",
    "md5sum -c md5sums 2>&1 | grep \"^${TIME_REGEX}\""
   ]
  },
  {
   "cell_type": "code",
   "execution_count": null,
   "metadata": {},
   "outputs": [],
   "source": [
    "%%bash\n",
    "\n",
    "# We have to source here again because bash runs in a separate sub process each cell.\n",
    "source /mnt/tmp/geowave-env.sh\n",
    "\n",
    "# clear old potential runs\n",
    "geowave config rmstore gdelt\n",
    "geowave config rmindex gdelt-spatial\n",
    "\n",
    "geowave config addstore gdelt --gwNamespace geowave.gdelt -t accumulo --zookeeper $HOSTNAME:2181 --instance accumulo --user root --password secret\n",
    "\n",
    "# configure a spatial index\n",
    "geowave config addindex -t spatial gdelt-spatial --partitionStrategy round_robin --numPartitions $NUM_PARTITIONS\n",
    "\n",
    "# run the ingest for a 10x10 deg bounding box over Europe\n",
    "geowave ingest localtogw /mnt/tmp/gdelt gdelt gdelt-spatial -f gdelt \\\n",
    "--gdelt.cql \"BBOX(geometry, 0, 50, 10, 60)\""
   ]
  },
  {
   "cell_type": "code",
   "execution_count": null,
   "metadata": {},
   "outputs": [],
   "source": [
    "accumulo_store = accumulo_options_class()\n",
    "accumulo_store.setInstance('accumulo')\n",
    "accumulo_store.setUser('root')\n",
    "accumulo_store.setPassword('secret')\n",
    "accumulo_store.setZookeeper(os.environ['HOSTNAME'] + ':2181')\n",
    "accumulo_store.setGeowaveNamespace('geowave.gdelt')\n",
    "\n",
    "\n",
    "accumulo_store_options = accumulo_store.createPluginOptions()"
   ]
  },
  {
   "cell_type": "code",
   "execution_count": null,
   "metadata": {},
   "outputs": [],
   "source": [
    "adapter_id = byte_array_class('gdeltevent')\n",
    "adapter = accumulo_store_options.createAdapterStore().getAdapter(adapter_id)\n",
    "\n",
    "rdd_opts = rdd_options_class()\n",
    "rdd_opts.setQueryOptions(query_options_class(adapter))\n",
    "rdd_opts.setMinSplits(1000)\n",
    "rdd_opts.setMaxSplits(1000)\n",
    "\n",
    "geowave_rdd = rdd_loader_class.loadRDD(sc._jsc.sc(), accumulo_store_options, rdd_opts)"
   ]
  }
 ],
 "metadata": {
  "kernelspec": {
   "display_name": "Python with Pixiedust (Spark 2.3)",
   "language": "python",
   "name": "pythonwithpixiedustspark23"
  },
  "language_info": {
   "codemirror_mode": {
    "name": "ipython",
    "version": 3
   },
   "file_extension": ".py",
   "mimetype": "text/x-python",
   "name": "python",
   "nbconvert_exporter": "python",
   "pygments_lexer": "ipython3",
   "version": "3.5.5"
  }
 },
 "nbformat": 4,
 "nbformat_minor": 2
}