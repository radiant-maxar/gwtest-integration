{
 "cells": [
  {
   "cell_type": "code",
   "execution_count": null,
   "metadata": {},
   "outputs": [],
   "source": [
    "%%bash\n",
    "cd /mnt/tmp\n",
    "wget s3.amazonaws.com/geowave/latest/scripts/emr/quickstart/geowave-env.sh\n",
    "source /mnt/tmp/geowave-env.sh\n",
    "mkdir gdelt\n",
    "cd gdelt\n",
    "wget http://data.gdeltproject.org/events/md5sums\n",
    "for file in `cat md5sums | cut -d' ' -f3 | grep \"^${TIME_REGEX}\"` ; \\\n",
    "do wget http://data.gdeltproject.org/events/$file ; done\n",
    "md5sum -c md5sums 2>&1 | grep \"^${TIME_REGEX}\""
   ]
  },
  {
   "cell_type": "code",
   "execution_count": null,
   "metadata": {},
   "outputs": [],
   "source": [
    "%%bash\n",
    "\n",
    "# We have to source here again because bash runs in a separate sub process each cell.\n",
    "source /mnt/tmp/geowave-env.sh\n",
    "\n",
    "# clear old potential runs\n",
    "geowave config rmstore gdelt-hbase\n",
    "geowave config rmindex gdelt-spatial\n",
    "\n",
    "# configure geowave connection params for hbase stores \"gdelt\" and \"kmeans\"\n",
    "geowave config addstore gdelt --gwNamespace geowave.gdelt -t hbase --zookeeper $HOSTNAME:2181\n",
    "\n",
    "# configure a spatial index\n",
    "geowave config addindex -t spatial gdelt-spatial --partitionStrategy round_robin --numPartitions $NUM_PARTITIONS\n",
    "\n",
    "# run the ingest for a 10x10 deg bounding box over Europe\n",
    "geowave ingest localtogw /mnt/tmp/gdelt gdelt gdelt-spatial -f gdelt \\\n",
    "--gdelt.cql \"BBOX(geometry, 0, 50, 10, 60)\""
   ]
  },
  {
   "cell_type": "code",
   "execution_count": null,
   "metadata": {},
   "outputs": [],
   "source": [
    "# Pull classes to desribe core GeoWave classes\n",
    "import os\n",
    "hbase_options_class = sc._jvm.mil.nga.giat.geowave.datastore.hbase.cli.config.HBaseRequiredOptions\n",
    "accumulo_options_class = sc._jvm.mil.nga.giat.geowave.datastore.accumulo.cli.config.AccumuloRequiredOptions\n",
    "\n",
    "query_options_class = sc._jvm.mil.nga.giat.geowave.core.store.query.QueryOptions\n",
    "byte_array_class = sc._jvm.mil.nga.giat.geowave.core.index.ByteArrayId\n",
    "# Pull core GeoWave Spark classes from jvm\n",
    "geowave_rdd_class = sc._jvm.mil.nga.giat.geowave.analytic.spark.GeoWaveRDD\n",
    "rdd_loader_class = sc._jvm.mil.nga.giat.geowave.analytic.spark.GeoWaveRDDLoader\n",
    "rdd_options_class = sc._jvm.mil.nga.giat.geowave.analytic.spark.RDDOptions\n",
    "sf_df_class = sc._jvm.mil.nga.giat.geowave.analytic.spark.sparksql.SimpleFeatureDataFrame"
   ]
  },
  {
   "cell_type": "code",
   "execution_count": null,
   "metadata": {},
   "outputs": [],
   "source": [
    "#Setup input datastore options\n",
    "input_store = hbase_options_class()\n",
    "input_store.setZookeeper(os.environ['HOSTNAME'] + ':2181')\n",
    "input_store.setGeowaveNamespace('geowave.gdelt')\n",
    "\n",
    "input_store_plugin = input_store.createPluginOptions()"
   ]
  },
  {
   "cell_type": "code",
   "execution_count": null,
   "metadata": {},
   "outputs": [],
   "source": [
    "adapter_id = byte_array_class('gdeltevent')\n",
    "adapter = input_store_plugin.createAdapterStore().getAdapter(adapter_id)\n",
    "\n",
    "rdd_opts = rdd_options_class()\n",
    "rdd_opts.setQueryOptions(query_options_class(adapter))\n",
    "rdd_opts.setMinSplits(1000)\n",
    "rdd_opts.setMaxSplits(1000)\n",
    "\n",
    "geowave_rdd = rdd_loader_class.loadRDD(sc._jsc.sc(), input_store_plugin, rdd_opts)"
   ]
  },
  {
   "cell_type": "code",
   "execution_count": null,
   "metadata": {},
   "outputs": [],
   "source": [
    "# Create a SimpleFeatureDataFrame from the GeoWaveRDD\n",
    "sf_df_gdelt = sf_df_class(spark._jsparkSession)\n",
    "sf_df_gdelt.init(input_store_plugin, adapter_id)\n",
    "df_gdelt = sf_df_gdelt.getDataFrame(geowave_rdd)\n",
    "\n",
    "# Convert Java DataFrame to Python DataFrame\n",
    "import pyspark.mllib.common as convert\n",
    "py_df = convert._java2py(sc, df_gdelt)\n",
    "\n",
    "# Create a sql table view of the hulls data\n",
    "py_df.createOrReplaceTempView('gdelt')"
   ]
  },
  {
   "cell_type": "code",
   "execution_count": null,
   "metadata": {},
   "outputs": [],
   "source": [
    "%%bash\n",
    "# set up geoserver\n",
    "geowave config geoserver \"$HOSTNAME:8000\"\n",
    "\n",
    "# add the centroids layer\n",
    "geowave gs addlayer gdelt -id gdeltevent\n",
    "geowave gs setls gdeltevent --styleName point"
   ]
  },
  {
   "cell_type": "code",
   "execution_count": null,
   "metadata": {},
   "outputs": [],
   "source": [
    "import owslib\n",
    "from owslib.wms import WebMapService\n",
    "\n",
    "url = \"http://\" + os.environ['HOSTNAME'] + \":8000/geoserver/geowave/wms\"\n",
    "web_map_services = WebMapService(url)\n",
    "\n",
    "#print layers available wms\n",
    "print('\\n'.join(web_map_services.contents.keys()))"
   ]
  },
  {
   "cell_type": "code",
   "execution_count": null,
   "metadata": {},
   "outputs": [],
   "source": [
    "import folium\n",
    "\n",
    "#grab wms info for centroids\n",
    "layer = 'gdeltevent'\n",
    "wms = web_map_services.contents[layer]\n",
    "\n",
    "#build center of map off centroid bbox\n",
    "lon = (wms.boundingBox[0] + wms.boundingBox[2]) / 2.\n",
    "lat = (wms.boundingBox[1] + wms.boundingBox[3]) / 2.\n",
    "center = [lat, lon]\n",
    "\n",
    "m = folium.Map(location = center,zoom_start=3)\n",
    "\n",
    "\n",
    "name = wms.title\n",
    "gdelt = folium.features.WmsTileLayer(\n",
    "    url=url,\n",
    "    name=name,\n",
    "    fmt='image/png',\n",
    "    transparent=True,\n",
    "    layers=layer,\n",
    "    overlay=True,\n",
    "    COLORSCALERANGE='1.2,28',\n",
    ")\n",
    "gdelt.add_to(m)\n",
    "m"
   ]
  }
 ],
 "metadata": {
  "kernelspec": {
   "display_name": "Python with Pixiedust (Spark 2.2)",
   "language": "python",
   "name": "pythonwithpixiedustspark22"
  },
  "language_info": {
   "codemirror_mode": {
    "name": "ipython",
    "version": 3
   },
   "file_extension": ".py",
   "mimetype": "text/x-python",
   "name": "python",
   "nbconvert_exporter": "python",
   "pygments_lexer": "ipython3",
   "version": "3.5.5"
  }
 },
 "nbformat": 4,
 "nbformat_minor": 2
}